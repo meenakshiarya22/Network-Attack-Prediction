{
 "cells": [
  {
   "cell_type": "markdown",
   "metadata": {},
   "source": [
    "# Prediction of R2L attacks"
   ]
  },
  {
   "cell_type": "code",
   "execution_count": 1,
   "metadata": {},
   "outputs": [],
   "source": [
    "import pandas as p"
   ]
  },
  {
   "cell_type": "code",
   "execution_count": 2,
   "metadata": {},
   "outputs": [],
   "source": [
    "import warnings\n",
    "warnings.filterwarnings('ignore')"
   ]
  },
  {
   "cell_type": "code",
   "execution_count": 3,
   "metadata": {},
   "outputs": [],
   "source": [
    "# feature names\n",
    "features = [\"duration\", \"protocol_type\", \"service\", \"flag\", \"src_bytes\", \"dst_bytes\", \"land\", \"Wrong_fragment\", \"Urgent\", \"hot\", \"num_failed_login\", \"logged_in\", \"num_compromised\", \"root_shell\", \"su_attempted\", \"num_root\", \"num_file_creations\", \"num_shells\", \"num_access_files\", \"num_outbound_cmds\", \"is_host_login\", \"is_guest_login\", \"count\", \"srv_count\", \"serror_rate\", \"srv_serror_rate\", \"rerror_rate\", \"srv_rerror_rate\", \"same_srv_rate\", \"diff_srv_rate\", \"srv_diff_host_rate\", \"dst_host_count\", \"dst_host_srv_count\", \"dst_host_same_srv_rate\", \"dst_host_diff_ srv_rate\", \"dst_host_same_src_port_rate\", \"dst_host_srv_diff_host _rate\", \"dst_host_serror_rate\", \"dst_host_srv_serror_rate\", \"dst_host_rerror_rate\", \"dst_host_srv_rerror_rate\",\"class\"] \n",
    "data = p.read_csv(\"data6.csv\", names = features)"
   ]
  },
  {
   "cell_type": "code",
   "execution_count": 4,
   "metadata": {},
   "outputs": [],
   "source": [
    "df=data.dropna()"
   ]
  },
  {
   "cell_type": "code",
   "execution_count": 5,
   "metadata": {},
   "outputs": [],
   "source": [
    "df['R2L'] = df[\"class\"].map({'normal.':0, 'snmpgetattack.':1, 'named.':1, 'xlock.':1, 'smurf.':0,\n",
    "       'ipsweep.':0, 'multihop.':1, 'xsnoop.':1, 'sendmail.':1, 'guess_passwd.':1,\n",
    "       'saint.':0, 'buffer_overflow.':0, 'portsweep.':0, 'pod.':0, 'apache2.':0,\n",
    "       'phf.':1, 'udpstorm.':0, 'warezmaster.':1, 'perl.':0, 'satan.':0, 'xterm.':0,\n",
    "       'mscan.':0, 'processtable.':0, 'ps.':0, 'nmap.':0, 'rootkit.':0, 'neptune.':0,\n",
    "       'loadmodule.':0, 'imap.':1, 'back.':0, 'httptunnel.':1, 'worm.':1,\n",
    "       'mailbomb.':0, 'ftp_write.':1, 'teardrop.':0, 'land.':0, 'sqlattack.':0,\n",
    "       'snmpguess.':1})"
   ]
  },
  {
   "cell_type": "code",
   "execution_count": 6,
   "metadata": {},
   "outputs": [],
   "source": [
    "from sklearn.preprocessing import LabelEncoder\n",
    "var_mod = ['duration', 'protocol_type', 'service', 'flag', 'src_bytes',\n",
    "       'dst_bytes', 'land', 'Wrong_fragment', 'Urgent', 'hot',\n",
    "       'num_failed_login', 'logged_in', 'num_compromised', 'root_shell',\n",
    "       'su_attempted', 'num_root', 'num_file_creations', 'num_shells',\n",
    "       'num_access_files', 'num_outbound_cmds', 'is_host_login',\n",
    "       'is_guest_login', 'count', 'srv_count', 'serror_rate',\n",
    "       'srv_serror_rate', 'rerror_rate', 'srv_rerror_rate', 'same_srv_rate',\n",
    "       'diff_srv_rate', 'srv_diff_host_rate', 'dst_host_count',\n",
    "       'dst_host_srv_count', 'dst_host_same_srv_rate',\n",
    "       'dst_host_diff_ srv_rate', 'dst_host_same_src_port_rate',\n",
    "       'dst_host_srv_diff_host _rate', 'dst_host_serror_rate',\n",
    "       'dst_host_srv_serror_rate', 'dst_host_rerror_rate'\n",
    "       ]\n",
    "le = LabelEncoder()\n",
    "for i in var_mod:\n",
    "    df[i] = le.fit_transform(df[i]).astype(int)\n"
   ]
  },
  {
   "cell_type": "code",
   "execution_count": 7,
   "metadata": {},
   "outputs": [],
   "source": [
    "del df['dst_host_srv_rerror_rate']\n",
    "del df[\"class\"]"
   ]
  },
  {
   "cell_type": "code",
   "execution_count": 8,
   "metadata": {},
   "outputs": [],
   "source": [
    "#According to the cross-validated MCC scores, the random forest is the best-performing model, so now let's evaluate its performance on the test set.\n",
    "from sklearn.metrics import confusion_matrix, classification_report, matthews_corrcoef, cohen_kappa_score, accuracy_score, average_precision_score, roc_auc_score"
   ]
  },
  {
   "cell_type": "code",
   "execution_count": 9,
   "metadata": {},
   "outputs": [],
   "source": [
    "X = df.drop(labels='R2L', axis=1)\n",
    "#Response variable\n",
    "y = df.loc[:,'R2L']    "
   ]
  },
  {
   "cell_type": "code",
   "execution_count": 10,
   "metadata": {},
   "outputs": [],
   "source": [
    " #We'll use a test size of 30%. We also stratify the split on the response variable, which is very important to do because there are so few fraudulent transactions.\n",
    "from sklearn.model_selection import train_test_split\n",
    "X_train, X_test, y_train, y_test = train_test_split(X, y, test_size=0.2, random_state=24, stratify=y)"
   ]
  },
  {
   "cell_type": "code",
   "execution_count": 11,
   "metadata": {},
   "outputs": [],
   "source": [
    "#According to the cross-validated MCC scores, the random forest is the best-performing model, so now let's evaluate its performance on the test set.\n",
    "from sklearn.metrics import confusion_matrix, classification_report, matthews_corrcoef, cohen_kappa_score, accuracy_score, average_precision_score, roc_auc_score"
   ]
  },
  {
   "cell_type": "markdown",
   "metadata": {},
   "source": [
    "Logistic Regression :"
   ]
  },
  {
   "cell_type": "code",
   "execution_count": 12,
   "metadata": {},
   "outputs": [
    {
     "name": "stdout",
     "output_type": "stream",
     "text": [
      "\n",
      "Classification report of Logistic Regression Results:\n",
      "\n",
      "              precision    recall  f1-score   support\n",
      "\n",
      "           0       0.62      0.94      0.75       357\n",
      "           1       0.63      0.16      0.26       243\n",
      "\n",
      "    accuracy                           0.62       600\n",
      "   macro avg       0.63      0.55      0.50       600\n",
      "weighted avg       0.63      0.62      0.55       600\n",
      "\n",
      "Confusion Matrix result of Logistic Regression is:\n",
      " [[334  23]\n",
      " [203  40]]\n",
      "\n",
      "Sensitivity :  0.9355742296918768\n",
      "\n",
      "Specificity :  0.1646090534979424\n",
      "\n",
      "Cross validation test results of accuracy:\n",
      "[0.61129568 0.62458472 0.63787375 0.63666667 0.62333333 0.66333333\n",
      " 0.61333333 0.64882943 0.60535117 0.62541806]\n",
      "\n",
      "Accuracy result of Logistic Regression is: 62.90019481697946\n"
     ]
    }
   ],
   "source": [
    "\n",
    "from sklearn.metrics import accuracy_score, confusion_matrix\n",
    "from sklearn.linear_model import LogisticRegression\n",
    "from sklearn.model_selection import cross_val_score\n",
    "\n",
    "logR= LogisticRegression()\n",
    "logR.fit(X_train,y_train)\n",
    "predictR = logR.predict(X_test)\n",
    "print(\"\")\n",
    "print('Classification report of Logistic Regression Results:')\n",
    "print(\"\")\n",
    "print(classification_report(y_test,predictR))\n",
    "\n",
    "cm1=confusion_matrix(y_test,predictR)\n",
    "print('Confusion Matrix result of Logistic Regression is:\\n',cm1)\n",
    "print(\"\")\n",
    "sensitivity1 = cm1[0,0]/(cm1[0,0]+cm1[0,1])\n",
    "print('Sensitivity : ', sensitivity1 )\n",
    "print(\"\")\n",
    "specificity1 = cm1[1,1]/(cm1[1,0]+cm1[1,1])\n",
    "print('Specificity : ', specificity1)\n",
    "print(\"\")\n",
    "\n",
    "accuracy = cross_val_score(logR, X, y, cv=10, scoring='accuracy')\n",
    "print('Cross validation test results of accuracy:')\n",
    "print(accuracy)\n",
    "#get the mean of each fold \n",
    "print(\"\")\n",
    "print(\"Accuracy result of Logistic Regression is:\",accuracy.mean() * 100)\n",
    "lr=accuracy.mean() * 100"
   ]
  },
  {
   "cell_type": "markdown",
   "metadata": {},
   "source": [
    "Decision Tree:"
   ]
  },
  {
   "cell_type": "code",
   "execution_count": 13,
   "metadata": {},
   "outputs": [
    {
     "name": "stdout",
     "output_type": "stream",
     "text": [
      "\n",
      "Classification report of Decision Tree Results:\n",
      "\n",
      "              precision    recall  f1-score   support\n",
      "\n",
      "           0       0.62      0.90      0.74       357\n",
      "           1       0.58      0.20      0.30       243\n",
      "\n",
      "    accuracy                           0.62       600\n",
      "   macro avg       0.60      0.55      0.52       600\n",
      "weighted avg       0.61      0.62      0.56       600\n",
      "\n",
      "Confusion Matrix result of Decision Tree is:\n",
      " [[322  35]\n",
      " [194  49]]\n",
      "\n",
      "Sensitivity :  0.9019607843137255\n",
      "\n",
      "Specificity :  0.20164609053497942\n",
      "\n",
      "Cross validation test results of accuracy:\n",
      "[0.64451827 0.63122924 0.63122924 0.60333333 0.64       0.64333333\n",
      " 0.59333333 0.61538462 0.61538462 0.64548495]\n",
      "\n",
      "Accuracy result of Decision Tree is: 62.63230924788053\n"
     ]
    }
   ],
   "source": [
    "from sklearn.tree import DecisionTreeClassifier\n",
    "from sklearn.metrics import accuracy_score, confusion_matrix\n",
    "from sklearn.model_selection import cross_val_score\n",
    "\n",
    "dt= DecisionTreeClassifier()\n",
    "dt.fit(X_train,y_train)\n",
    "predictR = dt.predict(X_test)\n",
    "print(\"\")\n",
    "print('Classification report of Decision Tree Results:')\n",
    "print(\"\")\n",
    "print(classification_report(y_test,predictR))\n",
    "\n",
    "cm1=confusion_matrix(y_test,predictR)\n",
    "print('Confusion Matrix result of Decision Tree is:\\n',cm1)\n",
    "print(\"\")\n",
    "sensitivity1 = cm1[0,0]/(cm1[0,0]+cm1[0,1])\n",
    "print('Sensitivity : ', sensitivity1 )\n",
    "print(\"\")\n",
    "specificity1 = cm1[1,1]/(cm1[1,0]+cm1[1,1])\n",
    "print('Specificity : ', specificity1)\n",
    "print(\"\")\n",
    "\n",
    "accuracy = cross_val_score(dt, X, y, cv=10, scoring='accuracy')\n",
    "print('Cross validation test results of accuracy:')\n",
    "print(accuracy)\n",
    "#get the mean of each fold \n",
    "print(\"\")\n",
    "print(\"Accuracy result of Decision Tree is:\",accuracy.mean() * 100)\n",
    "dt=accuracy.mean() * 100"
   ]
  },
  {
   "cell_type": "markdown",
   "metadata": {},
   "source": [
    "Random Forest:"
   ]
  },
  {
   "cell_type": "code",
   "execution_count": 14,
   "metadata": {},
   "outputs": [
    {
     "name": "stdout",
     "output_type": "stream",
     "text": [
      "\n",
      "Classification report of Random Forest Results:\n",
      "\n",
      "              precision    recall  f1-score   support\n",
      "\n",
      "           0       0.63      0.89      0.74       357\n",
      "           1       0.59      0.23      0.33       243\n",
      "\n",
      "    accuracy                           0.62       600\n",
      "   macro avg       0.61      0.56      0.53       600\n",
      "weighted avg       0.61      0.62      0.57       600\n",
      "\n",
      "\n",
      "Confusion Matrix result of Random Forest is:\n",
      " [[318  39]\n",
      " [188  55]]\n",
      "\n",
      "Sensitivity :  0.8907563025210085\n",
      "\n",
      "Specificity :  0.22633744855967078\n",
      "\n",
      "Cross validation test results of accuracy:\n",
      "[0.64119601 0.62790698 0.62790698 0.60333333 0.63333333 0.65333333\n",
      " 0.60333333 0.61204013 0.62876254 0.63545151]\n",
      "\n",
      "Accuracy result of Random Forest is: 62.6659748071275\n"
     ]
    }
   ],
   "source": [
    "from sklearn.ensemble import RandomForestClassifier\n",
    "rfc = RandomForestClassifier()\n",
    "rfc.fit(X_train,y_train)\n",
    "predictR = rfc.predict(X_test)\n",
    "print(\"\")\n",
    "print('Classification report of Random Forest Results:')\n",
    "print(\"\")\n",
    "print(classification_report(y_test,predictR))\n",
    "print(\"\")\n",
    "cm1=confusion_matrix(y_test,predictR)\n",
    "print('Confusion Matrix result of Random Forest is:\\n',cm1)\n",
    "print(\"\")\n",
    "sensitivity1 = cm1[0,0]/(cm1[0,0]+cm1[0,1])\n",
    "print('Sensitivity : ', sensitivity1 )\n",
    "print(\"\")\n",
    "specificity1 = cm1[1,1]/(cm1[1,0]+cm1[1,1])\n",
    "print('Specificity : ', specificity1)\n",
    "print(\"\")\n",
    "\n",
    "accuracy = cross_val_score(rfc, X, y, cv=10, scoring='accuracy')\n",
    "print('Cross validation test results of accuracy:')\n",
    "print(accuracy)\n",
    "#get the mean of each fold \n",
    "print(\"\")\n",
    "print(\"Accuracy result of Random Forest is:\",accuracy.mean() * 100)\n",
    "rf=accuracy.mean() * 100"
   ]
  },
  {
   "cell_type": "markdown",
   "metadata": {},
   "source": [
    "Support Vector Classifier:"
   ]
  },
  {
   "cell_type": "code",
   "execution_count": 15,
   "metadata": {},
   "outputs": [
    {
     "name": "stdout",
     "output_type": "stream",
     "text": [
      "\n",
      "Classification report of Support Vector Classifier Results:\n",
      "\n",
      "              precision    recall  f1-score   support\n",
      "\n",
      "           0       0.62      0.93      0.74       357\n",
      "           1       0.59      0.16      0.25       243\n",
      "\n",
      "    accuracy                           0.61       600\n",
      "   macro avg       0.61      0.54      0.49       600\n",
      "weighted avg       0.61      0.61      0.54       600\n",
      "\n",
      "\n",
      "Confusion Matrix result of Support Vector Classifier is:\n",
      " [[331  26]\n",
      " [205  38]]\n",
      "\n",
      "Sensitivity :  0.927170868347339\n",
      "\n",
      "Specificity :  0.15637860082304528\n",
      "Cross validation test results of accuracy:\n",
      "[0.60797342 0.62790698 0.64451827 0.63333333 0.63333333 0.66333333\n",
      " 0.60333333 0.64214047 0.59531773 0.62541806]\n",
      "\n",
      "Accuracy result of Support Vector Classifier is: 62.76608258610281\n"
     ]
    }
   ],
   "source": [
    "from sklearn.svm import SVC\n",
    "sv = SVC()\n",
    "sv.fit(X_train, y_train)\n",
    "predictSVC = sv.predict(X_test)\n",
    "print(\"\")\n",
    "print('Classification report of Support Vector Classifier Results:')\n",
    "print(\"\")\n",
    "print(classification_report(y_test,predictSVC))\n",
    "\n",
    "print(\"\")\n",
    "cm4=confusion_matrix(y_test,predictSVC)\n",
    "print('Confusion Matrix result of Support Vector Classifier is:\\n', confusion_matrix(y_test,predictSVC))\n",
    "print(\"\")\n",
    "sensitivity1 = cm4[0,0]/(cm4[0,0]+cm4[0,1])\n",
    "print('Sensitivity : ', sensitivity1 )\n",
    "print(\"\")\n",
    "specificity1 = cm4[1,1]/(cm4[1,0]+cm4[1,1])\n",
    "print('Specificity : ', specificity1)\n",
    "\n",
    "accuracy = cross_val_score(sv, X, y, cv=10, scoring='accuracy')\n",
    "print('Cross validation test results of accuracy:')\n",
    "print(accuracy)\n",
    "#get the mean of each fold \n",
    "print(\"\")\n",
    "print(\"Accuracy result of Support Vector Classifier is:\",accuracy.mean() * 100)\n",
    "sv=accuracy.mean() * 100"
   ]
  },
  {
   "cell_type": "markdown",
   "metadata": {},
   "source": [
    "Naive Bayes:"
   ]
  },
  {
   "cell_type": "code",
   "execution_count": 16,
   "metadata": {},
   "outputs": [
    {
     "name": "stdout",
     "output_type": "stream",
     "text": [
      "\n",
      "Classification report of Naive Bayes Results:\n",
      "\n",
      "              precision    recall  f1-score   support\n",
      "\n",
      "           0       0.75      0.03      0.05       357\n",
      "           1       0.41      0.99      0.58       243\n",
      "\n",
      "    accuracy                           0.41       600\n",
      "   macro avg       0.58      0.51      0.31       600\n",
      "weighted avg       0.61      0.41      0.26       600\n",
      "\n",
      "\n",
      "Confusion Matrix result of Naive Bayes is:\n",
      " [[  9 348]\n",
      " [  3 240]]\n",
      "\n",
      "Sensitivity :  0.025210084033613446\n",
      "\n",
      "Specificity :  0.9876543209876543\n",
      "\n",
      "Cross validation test results of accuracy:\n",
      "[0.41528239 0.42524917 0.41860465 0.42666667 0.41666667 0.42333333\n",
      " 0.43666667 0.41471572 0.43143813 0.43143813]\n",
      "\n",
      "Accuracy result of  Naive Bayes is: 42.40061519202065\n"
     ]
    }
   ],
   "source": [
    "from sklearn.naive_bayes import GaussianNB\n",
    "gnb = GaussianNB()\n",
    "gnb.fit(X_train,y_train)\n",
    "predictR = gnb.predict(X_test)\n",
    "print(\"\")\n",
    "print('Classification report of Naive Bayes Results:')\n",
    "print(\"\")\n",
    "print(classification_report(y_test,predictR))\n",
    "\n",
    "print(\"\")\n",
    "cm1=confusion_matrix(y_test,predictR)\n",
    "print('Confusion Matrix result of Naive Bayes is:\\n',cm1)\n",
    "print(\"\")\n",
    "sensitivity1 = cm1[0,0]/(cm1[0,0]+cm1[0,1])\n",
    "print('Sensitivity : ', sensitivity1 )\n",
    "print(\"\")\n",
    "specificity1 = cm1[1,1]/(cm1[1,0]+cm1[1,1])\n",
    "print('Specificity : ', specificity1)\n",
    "print(\"\")\n",
    "\n",
    "accuracy = cross_val_score(gnb, X, y, cv=10, scoring='accuracy')\n",
    "print('Cross validation test results of accuracy:')\n",
    "print(accuracy)\n",
    "#get the mean of each fold \n",
    "print(\"\")\n",
    "print(\"Accuracy result of  Naive Bayes is:\",accuracy.mean() * 100)\n",
    "nb=accuracy.mean() * 100"
   ]
  },
  {
   "cell_type": "markdown",
   "metadata": {},
   "source": [
    "K-Nearest Neighbor:"
   ]
  },
  {
   "cell_type": "code",
   "execution_count": 17,
   "metadata": {},
   "outputs": [
    {
     "name": "stdout",
     "output_type": "stream",
     "text": [
      "\n",
      "Classification report of K-Nearest Neighbor Results:\n",
      "\n",
      "              precision    recall  f1-score   support\n",
      "\n",
      "           0       0.67      0.73      0.69       357\n",
      "           1       0.54      0.47      0.50       243\n",
      "\n",
      "    accuracy                           0.62       600\n",
      "   macro avg       0.60      0.60      0.60       600\n",
      "weighted avg       0.61      0.62      0.61       600\n",
      "\n",
      "\n",
      "Confusion Matrix result of K-Nearest Neighbor is:\n",
      " [[259  98]\n",
      " [130 113]]\n",
      "\n",
      "Sensitivity :  0.7254901960784313\n",
      "\n",
      "Specificity :  0.46502057613168724\n",
      "\n",
      "Cross validation test results of accuracy:\n",
      "[0.62790698 0.61461794 0.41196013 0.42       0.62333333 0.45666667\n",
      " 0.58333333 0.57859532 0.56521739 0.66220736]\n",
      "\n",
      "Accuracy result of  K-Nearest Neighbor is: 55.438384500568525\n"
     ]
    }
   ],
   "source": [
    "from sklearn.neighbors import KNeighborsClassifier\n",
    "knnc = KNeighborsClassifier()\n",
    "knnc.fit(X_train,y_train)\n",
    "predictR = knnc.predict(X_test)\n",
    "print(\"\")\n",
    "print('Classification report of K-Nearest Neighbor Results:')\n",
    "print(\"\")\n",
    "print(classification_report(y_test,predictR))\n",
    "\n",
    "print(\"\")\n",
    "cm2=confusion_matrix(y_test,predictR)\n",
    "print('Confusion Matrix result of K-Nearest Neighbor is:\\n',cm2)\n",
    "print(\"\")\n",
    "sensitivity1 = cm2[0,0]/(cm2[0,0]+cm2[0,1])\n",
    "print('Sensitivity : ', sensitivity1 )\n",
    "print(\"\")\n",
    "specificity1 = cm2[1,1]/(cm2[1,0]+cm2[1,1])\n",
    "print('Specificity : ', specificity1)\n",
    "print(\"\")\n",
    "\n",
    "accuracy = cross_val_score(knnc, X, y, cv=10, scoring='accuracy')\n",
    "print('Cross validation test results of accuracy:')\n",
    "print(accuracy)\n",
    "#get the mean of each fold \n",
    "print(\"\")\n",
    "print(\"Accuracy result of  K-Nearest Neighbor is:\",accuracy.mean() * 100)\n",
    "kn=accuracy.mean() * 100"
   ]
  },
  {
   "cell_type": "code",
   "execution_count": 18,
   "metadata": {},
   "outputs": [],
   "source": [
    "def graph():\n",
    "    import matplotlib.pyplot as plt\n",
    "    data=[lr,dt,rf,sv,nb,kn]\n",
    "    alg=\"LR\",\"DT\",\"RF\",\"SVM\",\"NB\",\"KNN\"\n",
    "    plt.figure(figsize=(10,5))\n",
    "    b=plt.bar(alg,data,color=(\"r\",\"g\",\"b\",\"y\",\"m\",\"black\"))\n",
    "    plt.title(\"Accuracy comparison of R2L Attacks\",fontsize=15)\n",
    "    plt.legend(b,data,fontsize=9)\n",
    "    plt.savefig('R2L.png')"
   ]
  },
  {
   "cell_type": "code",
   "execution_count": 19,
   "metadata": {},
   "outputs": [],
   "source": [
    "graph()"
   ]
  },
  {
   "cell_type": "code",
   "execution_count": 20,
   "metadata": {},
   "outputs": [],
   "source": [
    "\n",
    "import tkinter\n",
    "from matplotlib.backends.backend_tkagg import (FigureCanvasTkAgg, NavigationToolbar2Tk)\n",
    "from matplotlib.backend_bases import key_press_handler\n",
    "from matplotlib.figure import Figure\n",
    "import numpy as np\n",
    "root = tkinter.Tk()\n",
    "root.wm_title(\"Accuracy plot for R2L Attacks\")\n",
    "fig = Figure(figsize=(10,10),dpi=1)\n",
    "canvas = FigureCanvasTkAgg(fig, master=root)  \n",
    "canvas.draw()\n",
    "canvas.get_tk_widget().pack(side=tkinter.TOP, fill=tkinter.BOTH, expand=1)\n",
    "icon=tkinter.PhotoImage(file='R2L.png')   \n",
    "label=tkinter.Label(root,image=icon)\n",
    "label.pack()\n",
    "root.mainloop()"
   ]
  },
  {
   "cell_type": "code",
   "execution_count": null,
   "metadata": {},
   "outputs": [],
   "source": []
  },
  {
   "cell_type": "code",
   "execution_count": null,
   "metadata": {},
   "outputs": [],
   "source": []
  }
 ],
 "metadata": {
  "kernelspec": {
   "display_name": "Python 3",
   "language": "python",
   "name": "python3"
  },
  "language_info": {
   "codemirror_mode": {
    "name": "ipython",
    "version": 3
   },
   "file_extension": ".py",
   "mimetype": "text/x-python",
   "name": "python",
   "nbconvert_exporter": "python",
   "pygments_lexer": "ipython3",
   "version": "3.7.4"
  }
 },
 "nbformat": 4,
 "nbformat_minor": 2
}
